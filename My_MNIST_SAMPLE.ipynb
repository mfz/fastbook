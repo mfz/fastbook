{
  "nbformat": 4,
  "nbformat_minor": 0,
  "metadata": {
    "colab": {
      "name": "My_MNIST_SAMPLE.ipynb",
      "provenance": [],
      "authorship_tag": "ABX9TyOxwXRSgAECsbdfKmrYK5mZ",
      "include_colab_link": true
    },
    "kernelspec": {
      "name": "python3",
      "display_name": "Python 3"
    },
    "accelerator": "GPU"
  },
  "cells": [
    {
      "cell_type": "markdown",
      "metadata": {
        "id": "view-in-github",
        "colab_type": "text"
      },
      "source": [
        "<a href=\"https://colab.research.google.com/github/mfz/fastbook/blob/master/My_MNIST_SAMPLE.ipynb\" target=\"_parent\"><img src=\"https://colab.research.google.com/assets/colab-badge.svg\" alt=\"Open In Colab\"/></a>"
      ]
    },
    {
      "cell_type": "code",
      "metadata": {
        "id": "f8zDTeQ1icBz",
        "colab_type": "code",
        "colab": {}
      },
      "source": [
        "%%capture\n",
        "! curl -s https://course.fast.ai/setup/colab | bash\n",
        "! pip install fastai2\n",
        "! pip install nbdev\n",
        "! pip install azure-cognitiveservices-search-imagesearch\n"
      ],
      "execution_count": 0,
      "outputs": []
    },
    {
      "cell_type": "code",
      "metadata": {
        "id": "anIVP_mViixu",
        "colab_type": "code",
        "colab": {}
      },
      "source": [
        "from fastai2.vision.all import *\n",
        "from nbdev.showdoc import *\n",
        "from ipywidgets import widgets\n",
        "from pandas.api.types import CategoricalDtype\n",
        "\n",
        "import matplotlib as mpl\n",
        "# mpl.rcParams['figure.dpi']= 200\n",
        "mpl.rcParams['savefig.dpi']= 200\n",
        "mpl.rcParams['font.size']=12\n",
        "\n",
        "set_seed(42)\n",
        "torch.backends.cudnn.deterministic = True\n",
        "torch.backends.cudnn.benchmark = False\n",
        "pd.set_option('display.max_columns',999)\n",
        "np.set_printoptions(linewidth=200)\n",
        "torch.set_printoptions(linewidth=200)\n",
        "\n",
        "matplotlib.rc('image', cmap='Greys')"
      ],
      "execution_count": 0,
      "outputs": []
    },
    {
      "cell_type": "markdown",
      "metadata": {
        "id": "3zht9eIHl25H",
        "colab_type": "text"
      },
      "source": [
        "## MNIST data set\n",
        "\n",
        "Load MNIST sample set"
      ]
    },
    {
      "cell_type": "code",
      "metadata": {
        "id": "HWair1Zsi5k2",
        "colab_type": "code",
        "colab": {
          "base_uri": "https://localhost:8080/",
          "height": 17
        },
        "outputId": "7f809b6b-613a-49dc-d545-2ea3f029ede2"
      },
      "source": [
        "path = untar_data(URLs.MNIST_SAMPLE)"
      ],
      "execution_count": 3,
      "outputs": [
        {
          "output_type": "display_data",
          "data": {
            "text/html": [
              ""
            ],
            "text/plain": [
              "<IPython.core.display.HTML object>"
            ]
          },
          "metadata": {
            "tags": []
          }
        }
      ]
    },
    {
      "cell_type": "markdown",
      "metadata": {
        "id": "00DdquXGl7BQ",
        "colab_type": "text"
      },
      "source": [
        "and check what's available"
      ]
    },
    {
      "cell_type": "code",
      "metadata": {
        "id": "JwKvPzd2i-E8",
        "colab_type": "code",
        "colab": {
          "base_uri": "https://localhost:8080/",
          "height": 54
        },
        "outputId": "1acb4d28-0055-4d14-c50c-fea2664a9f7d"
      },
      "source": [
        "path.ls()"
      ],
      "execution_count": 4,
      "outputs": [
        {
          "output_type": "execute_result",
          "data": {
            "text/plain": [
              "(#3) [Path('/root/.fastai/data/mnist_sample/train'),Path('/root/.fastai/data/mnist_sample/valid'),Path('/root/.fastai/data/mnist_sample/labels.csv')]"
            ]
          },
          "metadata": {
            "tags": []
          },
          "execution_count": 4
        }
      ]
    },
    {
      "cell_type": "code",
      "metadata": {
        "id": "lx2lfWgujCNE",
        "colab_type": "code",
        "colab": {
          "base_uri": "https://localhost:8080/",
          "height": 54
        },
        "outputId": "8994658c-baaf-4e64-f6bd-661f51aa8303"
      },
      "source": [
        "(path/\"train\").ls()"
      ],
      "execution_count": 5,
      "outputs": [
        {
          "output_type": "execute_result",
          "data": {
            "text/plain": [
              "(#2) [Path('/root/.fastai/data/mnist_sample/train/7'),Path('/root/.fastai/data/mnist_sample/train/3')]"
            ]
          },
          "metadata": {
            "tags": []
          },
          "execution_count": 5
        }
      ]
    },
    {
      "cell_type": "code",
      "metadata": {
        "id": "tXWG_6qsjSuZ",
        "colab_type": "code",
        "colab": {
          "base_uri": "https://localhost:8080/",
          "height": 45
        },
        "outputId": "db4e5ce2-1df3-46d2-8cd5-3b511a905d5e"
      },
      "source": [
        "threes = (path/\"train\"/\"3\").ls().sorted()\n",
        "im3 = Image.open(threes[1])\n",
        "im3"
      ],
      "execution_count": 6,
      "outputs": [
        {
          "output_type": "execute_result",
          "data": {
            "image/png": "[encoded data removed]",
            "text/plain": [
              "<PIL.PngImagePlugin.PngImageFile image mode=L size=28x28 at 0x7F803E69CBA8>"
            ]
          },
          "metadata": {
            "tags": []
          },
          "execution_count": 6
        }
      ]
    },
    {
      "cell_type": "code",
      "metadata": {
        "id": "3cuGXUdzkmyK",
        "colab_type": "code",
        "colab": {
          "base_uri": "https://localhost:8080/",
          "height": 45
        },
        "outputId": "d909287c-7a4c-4170-ccd0-43b5e968c26d"
      },
      "source": [
        "sevens = (path/\"train\"/\"7\").ls().sorted()\n",
        "im7 = Image.open(sevens[3])\n",
        "im7"
      ],
      "execution_count": 7,
      "outputs": [
        {
          "output_type": "execute_result",
          "data": {
            "image/png": "[encoded data removed]",
            "text/plain": [
              "<PIL.PngImagePlugin.PngImageFile image mode=L size=28x28 at 0x7F803E008518>"
            ]
          },
          "metadata": {
            "tags": []
          },
          "execution_count": 7
        }
      ]
    },
    {
      "cell_type": "markdown",
      "metadata": {
        "id": "byFBtMWpmAEe",
        "colab_type": "text"
      },
      "source": [
        "convert to torch tensors and average over all sample images"
      ]
    },
    {
      "cell_type": "code",
      "metadata": {
        "id": "mjP6PuQ4kv0z",
        "colab_type": "code",
        "colab": {}
      },
      "source": [
        "threes_tens = torch.stack([tensor(Image.open(f)) for f in threes]).float()/255\n",
        "sevens_tens = torch.stack([tensor(Image.open(f)) for f in sevens]).float()/255"
      ],
      "execution_count": 0,
      "outputs": []
    },
    {
      "cell_type": "code",
      "metadata": {
        "id": "FkPArFdYlTvp",
        "colab_type": "code",
        "colab": {
          "base_uri": "https://localhost:8080/",
          "height": 102
        },
        "outputId": "5a87811a-db7f-4096-da0d-5803950b91f6"
      },
      "source": [
        "three_mean = threes_tens.mean(0)\n",
        "show_image(three_mean)"
      ],
      "execution_count": 9,
      "outputs": [
        {
          "output_type": "execute_result",
          "data": {
            "text/plain": [
              "<matplotlib.axes._subplots.AxesSubplot at 0x7f803e008470>"
            ]
          },
          "metadata": {
            "tags": []
          },
          "execution_count": 9
        },
        {
          "output_type": "display_data",
          "data": {
            "image/png": "[encoded data removed]",
            "text/plain": [
              "<Figure size 72x72 with 1 Axes>"
            ]
          },
          "metadata": {
            "tags": []
          }
        }
      ]
    },
    {
      "cell_type": "code",
      "metadata": {
        "id": "nGNziYKRlh-n",
        "colab_type": "code",
        "colab": {
          "base_uri": "https://localhost:8080/",
          "height": 102
        },
        "outputId": "65861702-a4eb-495a-ad4b-dfb64f2babf4"
      },
      "source": [
        "seven_mean = sevens_tens.mean(0)\n",
        "show_image(seven_mean)"
      ],
      "execution_count": 10,
      "outputs": [
        {
          "output_type": "execute_result",
          "data": {
            "text/plain": [
              "<matplotlib.axes._subplots.AxesSubplot at 0x7f803dd8fa20>"
            ]
          },
          "metadata": {
            "tags": []
          },
          "execution_count": 10
        },
        {
          "output_type": "display_data",
          "data": {
            "image/png": "[encoded data removed]",
            "text/plain": [
              "<Figure size 72x72 with 1 Axes>"
            ]
          },
          "metadata": {
            "tags": []
          }
        }
      ]
    },
    {
      "cell_type": "markdown",
      "metadata": {
        "id": "dri8GtTdmMBH",
        "colab_type": "text"
      },
      "source": [
        "### Baseline classifier\n",
        "\n",
        "our baseline classifier will be the sum of abs diff from mean"
      ]
    },
    {
      "cell_type": "code",
      "metadata": {
        "id": "UHyLqkcTlx4o",
        "colab_type": "code",
        "colab": {
          "base_uri": "https://localhost:8080/",
          "height": 34
        },
        "outputId": "c710e873-bbe1-4fa7-f1e9-fbedc23a081b"
      },
      "source": [
        "(threes_tens[3] - three_mean).abs().sum()\n"
      ],
      "execution_count": 11,
      "outputs": [
        {
          "output_type": "execute_result",
          "data": {
            "text/plain": [
              "tensor(90.4458)"
            ]
          },
          "metadata": {
            "tags": []
          },
          "execution_count": 11
        }
      ]
    },
    {
      "cell_type": "code",
      "metadata": {
        "id": "yR7NDJLymYtB",
        "colab_type": "code",
        "colab": {
          "base_uri": "https://localhost:8080/",
          "height": 34
        },
        "outputId": "b11ecb7b-2a26-465c-f410-e7731c5b16bc"
      },
      "source": [
        "(threes_tens[3] - seven_mean).abs().sum()"
      ],
      "execution_count": 12,
      "outputs": [
        {
          "output_type": "execute_result",
          "data": {
            "text/plain": [
              "tensor(130.8637)"
            ]
          },
          "metadata": {
            "tags": []
          },
          "execution_count": 12
        }
      ]
    },
    {
      "cell_type": "code",
      "metadata": {
        "id": "78fX_hjpmwEQ",
        "colab_type": "code",
        "colab": {}
      },
      "source": [
        "def is_three(x): return (x - three_mean).abs().mean() < (x - seven_mean).abs().mean()"
      ],
      "execution_count": 0,
      "outputs": []
    },
    {
      "cell_type": "code",
      "metadata": {
        "id": "0hW3A08RnBJG",
        "colab_type": "code",
        "colab": {
          "base_uri": "https://localhost:8080/",
          "height": 34
        },
        "outputId": "fd7b6d2c-3aef-4ce4-ce5d-7c24ad6e2014"
      },
      "source": [
        "np.mean([is_three(threes_tens[i]) for i in range(threes_tens.size()[0]) ])"
      ],
      "execution_count": 14,
      "outputs": [
        {
          "output_type": "execute_result",
          "data": {
            "text/plain": [
              "0.8912086119719459"
            ]
          },
          "metadata": {
            "tags": []
          },
          "execution_count": 14
        }
      ]
    },
    {
      "cell_type": "code",
      "metadata": {
        "id": "BM4bw__FnFOG",
        "colab_type": "code",
        "colab": {
          "base_uri": "https://localhost:8080/",
          "height": 34
        },
        "outputId": "01fe1863-0cb4-4f78-9080-9072df4a04c0"
      },
      "source": [
        "np.mean([is_three(sevens_tens[i]) for i in range(sevens_tens.size()[0]) ])"
      ],
      "execution_count": 15,
      "outputs": [
        {
          "output_type": "execute_result",
          "data": {
            "text/plain": [
              "0.003830806065442937"
            ]
          },
          "metadata": {
            "tags": []
          },
          "execution_count": 15
        }
      ]
    },
    {
      "cell_type": "code",
      "metadata": {
        "id": "-IC7LVGannDu",
        "colab_type": "code",
        "colab": {}
      },
      "source": [
        ""
      ],
      "execution_count": 0,
      "outputs": []
    },
    {
      "cell_type": "markdown",
      "metadata": {
        "id": "cWnXXQwaqM5I",
        "colab_type": "text"
      },
      "source": [
        "## NN\n",
        "### Create DataLoader\n",
        "\n",
        "DataLoader allows batching and sampling from data set. A data set is simply a list of (x, y) tuples.\n"
      ]
    },
    {
      "cell_type": "code",
      "metadata": {
        "id": "WCYexjXAqdAx",
        "colab_type": "code",
        "colab": {}
      },
      "source": [
        "train_x = torch.cat((threes_tens, sevens_tens)).view(-1, 28*28)\n",
        "train_y = tensor([1]*len(threes) + [0]*len(sevens))\n",
        "train = list(zip(train_x, train_y))\n",
        "train_dl = DataLoader(train, bs=256)"
      ],
      "execution_count": 0,
      "outputs": []
    },
    {
      "cell_type": "code",
      "metadata": {
        "id": "glxHUp4WrctU",
        "colab_type": "code",
        "colab": {}
      },
      "source": [
        "valid_3_tens = [tensor(Image.open(f)) for f in (path/\"valid\"/\"3\").ls()]\n",
        "valid_7_tens = [tensor(Image.open(f)) for f in (path/\"valid\"/\"7\").ls()]\n",
        "valid_x = torch.cat((torch.stack(valid_3_tens).float()/255, \n",
        "                     torch.stack(valid_7_tens).float()/255)).view(-1, 28*28)\n",
        "valid_y = tensor([1]*len(valid_3_tens) + [0]*len(valid_7_tens))\n",
        "valid = list(zip(valid_x, valid_y))\n",
        "valid_dl = DataLoader(valid, bs=256)"
      ],
      "execution_count": 0,
      "outputs": []
    },
    {
      "cell_type": "code",
      "metadata": {
        "id": "rgOC056cs84P",
        "colab_type": "code",
        "colab": {
          "base_uri": "https://localhost:8080/",
          "height": 34
        },
        "outputId": "1f602f96-857d-41e0-eb35-1e6f77ab37e8"
      },
      "source": [
        "valid_dl"
      ],
      "execution_count": 19,
      "outputs": [
        {
          "output_type": "execute_result",
          "data": {
            "text/plain": [
              "<fastai2.data.load.DataLoader at 0x7f803dcaf828>"
            ]
          },
          "metadata": {
            "tags": []
          },
          "execution_count": 19
        }
      ]
    },
    {
      "cell_type": "code",
      "metadata": {
        "id": "kQAMoPoNtZLQ",
        "colab_type": "code",
        "colab": {
          "base_uri": "https://localhost:8080/",
          "height": 34
        },
        "outputId": "2edd91b7-7387-489a-ee20-bfaadc3f74ee"
      },
      "source": [
        "x, y = first(valid_dl)\n",
        "x.size(), y.size()"
      ],
      "execution_count": 20,
      "outputs": [
        {
          "output_type": "execute_result",
          "data": {
            "text/plain": [
              "(torch.Size([256, 784]), torch.Size([256]))"
            ]
          },
          "metadata": {
            "tags": []
          },
          "execution_count": 20
        }
      ]
    },
    {
      "cell_type": "code",
      "metadata": {
        "id": "CII5c107wjuX",
        "colab_type": "code",
        "colab": {}
      },
      "source": [
        "def myloss(target, pred): return torch.where(target==0, pred, 1-pred).mean()"
      ],
      "execution_count": 0,
      "outputs": []
    },
    {
      "cell_type": "code",
      "metadata": {
        "id": "AIGP6M0bQV0Z",
        "colab_type": "code",
        "colab": {}
      },
      "source": [
        "def train_epoch(model, dl, lr, loss_func, params):\n",
        "  for x,y in dl:\n",
        "    loss = loss_func(y, sigmoid(model(x)))\n",
        "    loss.backward()\n",
        "    for p in params:\n",
        "      p.data -= lr*p.grad\n",
        "      p.grad.zero_()\n"
      ],
      "execution_count": 0,
      "outputs": []
    },
    {
      "cell_type": "code",
      "metadata": {
        "id": "RfXYLG6zVxQU",
        "colab_type": "code",
        "colab": {}
      },
      "source": [
        "def validate(model, metrics):\n",
        "  m = []\n",
        "  for x,y in valid_dl:\n",
        "    pred = sigmoid(model(x))\n",
        "    m.append(metrics(y, pred))\n",
        "  return np.mean(m)"
      ],
      "execution_count": 0,
      "outputs": []
    },
    {
      "cell_type": "code",
      "metadata": {
        "id": "Rjs6H9QJWSfS",
        "colab_type": "code",
        "colab": {}
      },
      "source": [
        "def accuracy(y, pred):\n",
        "  return ((pred > 0.5)==y).float().mean()\n",
        "  "
      ],
      "execution_count": 0,
      "outputs": []
    },
    {
      "cell_type": "code",
      "metadata": {
        "id": "EX2uC_1vtnfY",
        "colab_type": "code",
        "colab": {}
      },
      "source": [
        "model = nn.Sequential(nn.Linear(784, 10),\n",
        "                nn.ReLU(),\n",
        "                nn.Linear(10, 1))\n",
        "\n",
        "ps = params(model)"
      ],
      "execution_count": 0,
      "outputs": []
    },
    {
      "cell_type": "code",
      "metadata": {
        "id": "30E8U1auWpCA",
        "colab_type": "code",
        "colab": {
          "base_uri": "https://localhost:8080/",
          "height": 867
        },
        "outputId": "6350fd77-5779-481d-99b1-0492199b1aa9"
      },
      "source": [
        "for epoch in range(50):\n",
        "  print(validate(model, accuracy))\n",
        "  train_epoch(model, train_dl, 0.1, myloss, ps)\n"
      ],
      "execution_count": 146,
      "outputs": [
        {
          "output_type": "stream",
          "text": [
            "0.48662648\n",
            "0.50683594\n",
            "0.79380035\n",
            "0.905101\n",
            "0.9282791\n",
            "0.94353026\n",
            "0.9521057\n",
            "0.9544403\n",
            "0.9544403\n",
            "0.9563934\n",
            "0.95780486\n",
            "0.9592163\n",
            "0.961116\n",
            "0.96198577\n",
            "0.96247405\n",
            "0.9639389\n",
            "0.96540374\n",
            "0.965892\n",
            "0.965892\n",
            "0.965892\n",
            "0.9663803\n",
            "0.9663803\n",
            "0.9663803\n",
            "0.9668686\n",
            "0.96735686\n",
            "0.96784514\n",
            "0.9683334\n",
            "0.9683334\n",
            "0.9683334\n",
            "0.9683334\n",
            "0.9683334\n",
            "0.96784514\n",
            "0.9687683\n",
            "0.9692566\n",
            "0.9692566\n",
            "0.96974486\n",
            "0.97023314\n",
            "0.97023314\n",
            "0.97023314\n",
            "0.97023314\n",
            "0.96974486\n",
            "0.96974486\n",
            "0.96974486\n",
            "0.96974486\n",
            "0.96974486\n",
            "0.96974486\n",
            "0.96974486\n",
            "0.96974486\n",
            "0.96974486\n",
            "0.96974486\n"
          ],
          "name": "stdout"
        }
      ]
    },
    {
      "cell_type": "code",
      "metadata": {
        "id": "gcV0gwLUYjNh",
        "colab_type": "code",
        "colab": {}
      },
      "source": [
        ""
      ],
      "execution_count": 0,
      "outputs": []
    }
  ]
}